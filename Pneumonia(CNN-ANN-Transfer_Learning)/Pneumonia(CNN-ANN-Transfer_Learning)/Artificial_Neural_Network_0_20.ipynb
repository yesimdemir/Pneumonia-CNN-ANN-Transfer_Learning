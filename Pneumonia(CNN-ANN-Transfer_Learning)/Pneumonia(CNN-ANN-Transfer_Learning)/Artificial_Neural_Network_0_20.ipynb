{
  "cells": [
    {
      "cell_type": "code",
      "execution_count": null,
      "metadata": {
        "colab": {
          "base_uri": "https://localhost:8080/"
        },
        "id": "BpWBG_1pMy2J",
        "outputId": "839a7c78-54ac-408f-9453-d52ff450231f"
      },
      "outputs": [
        {
          "output_type": "stream",
          "name": "stdout",
          "text": [
            "Requirement already satisfied: scikit-learn in /usr/local/lib/python3.10/dist-packages (1.2.2)\n",
            "Collecting scikit-learn\n",
            "  Downloading scikit_learn-1.3.2-cp310-cp310-manylinux_2_17_x86_64.manylinux2014_x86_64.whl (10.8 MB)\n",
            "\u001b[2K     \u001b[90m━━━━━━━━━━━━━━━━━━━━━━━━━━━━━━━━━━━━━━━━\u001b[0m \u001b[32m10.8/10.8 MB\u001b[0m \u001b[31m56.6 MB/s\u001b[0m eta \u001b[36m0:00:00\u001b[0m\n",
            "\u001b[?25hRequirement already satisfied: numpy<2.0,>=1.17.3 in /usr/local/lib/python3.10/dist-packages (from scikit-learn) (1.23.5)\n",
            "Requirement already satisfied: scipy>=1.5.0 in /usr/local/lib/python3.10/dist-packages (from scikit-learn) (1.11.4)\n",
            "Requirement already satisfied: joblib>=1.1.1 in /usr/local/lib/python3.10/dist-packages (from scikit-learn) (1.3.2)\n",
            "Requirement already satisfied: threadpoolctl>=2.0.0 in /usr/local/lib/python3.10/dist-packages (from scikit-learn) (3.2.0)\n",
            "Installing collected packages: scikit-learn\n",
            "  Attempting uninstall: scikit-learn\n",
            "    Found existing installation: scikit-learn 1.2.2\n",
            "    Uninstalling scikit-learn-1.2.2:\n",
            "      Successfully uninstalled scikit-learn-1.2.2\n",
            "Successfully installed scikit-learn-1.3.2\n"
          ]
        }
      ],
      "source": [
        "pip install -U scikit-learn\n"
      ]
    },
    {
      "cell_type": "code",
      "execution_count": null,
      "metadata": {
        "colab": {
          "base_uri": "https://localhost:8080/"
        },
        "id": "K63dBPgjM4ep",
        "outputId": "f93f6890-a8fb-4380-fcbb-811b17b14ece"
      },
      "outputs": [
        {
          "output_type": "stream",
          "name": "stdout",
          "text": [
            "Mounted at /gdrive/\n",
            "Google Drive bağlantısı başarıyla oluşturuldu.\n"
          ]
        }
      ],
      "source": [
        "try:\n",
        "    from google.colab import drive\n",
        "\n",
        "    # Google Drive'ı Colab ortamına bağla\n",
        "    drive.mount('/gdrive/', force_remount=True)\n",
        "    print(\"Google Drive bağlantısı başarıyla oluşturuldu.\")\n",
        "except Exception as e:\n",
        "    print(f\"Hata: {str(e)}\")\n",
        "\n"
      ]
    },
    {
      "cell_type": "code",
      "execution_count": null,
      "metadata": {
        "id": "nf7pJVWMND_w"
      },
      "outputs": [],
      "source": [
        "import numpy as np # linear algebra\n",
        "import pandas as pd # data processing, CSV file I/O (e.g. pd.read_csv)\n",
        "import matplotlib.pyplot as plt\n",
        "import seaborn as sns\n",
        "import glob\n",
        "import cv2\n",
        "import os"
      ]
    },
    {
      "cell_type": "code",
      "execution_count": null,
      "metadata": {
        "colab": {
          "base_uri": "https://localhost:8080/"
        },
        "id": "1q8GTueXNGdI",
        "outputId": "505ce0bf-f710-4b2d-8797-4c7a8f1957d7"
      },
      "outputs": [
        {
          "output_type": "stream",
          "name": "stdout",
          "text": [
            "['X-Ray']\n"
          ]
        }
      ],
      "source": [
        "print(os.listdir(\"/gdrive/My Drive/Colab Notebooks/Pneumonia/\"))"
      ]
    },
    {
      "cell_type": "code",
      "execution_count": null,
      "metadata": {
        "id": "gInvMRMWNJTJ"
      },
      "outputs": [],
      "source": [
        "DATADIR = '/gdrive/My Drive/Colab Notebooks/Pneumonia/X-Ray'\n",
        "\n",
        "CATEGORIES = CATEGORIES = [\"Bacterial\",\"Viral\"]"
      ]
    },
    {
      "cell_type": "code",
      "execution_count": null,
      "metadata": {
        "id": "XS9Z2RXyNLRq"
      },
      "outputs": [],
      "source": [
        "IMG_SIZE = 100"
      ]
    },
    {
      "cell_type": "code",
      "execution_count": null,
      "metadata": {
        "id": "hkspLmenNM6L",
        "colab": {
          "base_uri": "https://localhost:8080/"
        },
        "outputId": "a42956a5-fcaa-4ef2-e097-6ef35b8fd8eb"
      },
      "outputs": [
        {
          "output_type": "stream",
          "name": "stdout",
          "text": [
            "Toplam Görüntü Sayısı:  16167\n",
            "Başarısız Görüntü Sayısı:  1\n"
          ]
        }
      ],
      "source": [
        "import cv2\n",
        "import os\n",
        "\n",
        "all_data = []\n",
        "\n",
        "def create_all_data():\n",
        "    total_images = 0\n",
        "    failed_images = 0\n",
        "\n",
        "    for category in CATEGORIES:\n",
        "        path = os.path.join(DATADIR, category)\n",
        "        class_num = CATEGORIES.index(category)\n",
        "\n",
        "        for img in os.listdir(path):\n",
        "            try:\n",
        "                img_array = cv2.imread(os.path.join(path, img))\n",
        "                if img_array is not None:\n",
        "                    new_array = cv2.resize(img_array, (IMG_SIZE, IMG_SIZE))\n",
        "                    all_data.append([new_array, class_num])\n",
        "                    total_images += 1\n",
        "                else:\n",
        "                    failed_images += 1\n",
        "            except Exception as e:\n",
        "                print(f\"Error processing image {img} in category {category}: {str(e)}\")\n",
        "                failed_images += 1\n",
        "\n",
        "    print(\"Toplam Görüntü Sayısı: \", total_images)\n",
        "    print(\"Başarısız Görüntü Sayısı: \", failed_images)\n",
        "\n",
        "create_all_data()\n"
      ]
    },
    {
      "cell_type": "code",
      "execution_count": null,
      "metadata": {
        "colab": {
          "base_uri": "https://localhost:8080/"
        },
        "id": "LjuYzVq7NObI",
        "outputId": "27a7e1e9-16c3-43d5-f51f-94c5c34320ac"
      },
      "outputs": [
        {
          "output_type": "stream",
          "name": "stdout",
          "text": [
            "Toplam Görüntü Sayısı:  16167\n"
          ]
        }
      ],
      "source": [
        "print(\"Toplam Görüntü Sayısı: \", len(all_data))"
      ]
    },
    {
      "cell_type": "code",
      "execution_count": null,
      "metadata": {
        "id": "kXYCmdTZNPZR"
      },
      "outputs": [],
      "source": [
        "X = []\n",
        "y = []\n",
        "\n",
        "for categories, label in all_data:\n",
        "  X.append(categories)\n",
        "  y.append(label)"
      ]
    },
    {
      "cell_type": "code",
      "execution_count": null,
      "metadata": {
        "id": "FSRQeHNXNQ9f"
      },
      "outputs": [],
      "source": [
        "from sklearn.model_selection import train_test_split\n",
        "\n",
        "x_train, x_test, y_train, y_test = train_test_split(X, y, test_size=0.20, random_state =42)\n",
        "\n",
        "x_train, x_val, y_train, y_val = train_test_split(x_train, y_train, test_size=0.10, random_state=42)"
      ]
    },
    {
      "cell_type": "code",
      "execution_count": null,
      "metadata": {
        "id": "sQzTVP3jNTtl"
      },
      "outputs": [],
      "source": [
        "x_train = np.array(x_train)\n",
        "x_test = np.array(x_test)\n",
        "\n",
        "y_train = np.array(y_train)\n",
        "y_test = np.array(y_test)\n",
        "\n",
        "x_val = np.array(x_val)\n",
        "y_val = np.array(y_val)"
      ]
    },
    {
      "cell_type": "code",
      "execution_count": null,
      "metadata": {
        "colab": {
          "base_uri": "https://localhost:8080/"
        },
        "id": "3f5jP_CWNVT-",
        "outputId": "35958725-1fef-421a-b025-aef3712fbba2"
      },
      "outputs": [
        {
          "output_type": "stream",
          "name": "stdout",
          "text": [
            "(11639, 100, 100, 3)\n",
            "(3234, 100, 100, 3)\n",
            "(1294, 100, 100, 3)\n",
            "(11639,)\n",
            "(3234,)\n",
            "(1294,)\n"
          ]
        }
      ],
      "source": [
        "print(x_train.shape)\n",
        "print(x_test.shape)\n",
        "print(x_val.shape)\n",
        "\n",
        "print(y_train.shape)\n",
        "print(y_test.shape)\n",
        "print(y_val.shape)"
      ]
    },
    {
      "cell_type": "code",
      "execution_count": null,
      "metadata": {
        "id": "K6I1cxqRNXCc"
      },
      "outputs": [],
      "source": [
        "import tensorflow as tf\n",
        "\n",
        "train_yCl = tf.keras.utils.to_categorical(y_train, num_classes=2)\n",
        "test_yCl = tf.keras.utils.to_categorical(y_test, num_classes=2)\n",
        "valid_yCl = tf.keras.utils.to_categorical(y_val, num_classes=2)"
      ]
    },
    {
      "cell_type": "code",
      "execution_count": null,
      "metadata": {
        "colab": {
          "base_uri": "https://localhost:8080/"
        },
        "id": "DGS5Or4OWNnG",
        "outputId": "e02681c2-e4e4-43f9-915a-037aa492a587"
      },
      "outputs": [
        {
          "output_type": "stream",
          "name": "stdout",
          "text": [
            "Requirement already satisfied: keras-tuner in /usr/local/lib/python3.10/dist-packages (1.4.6)\n",
            "Requirement already satisfied: keras in /usr/local/lib/python3.10/dist-packages (from keras-tuner) (2.15.0)\n",
            "Requirement already satisfied: packaging in /usr/local/lib/python3.10/dist-packages (from keras-tuner) (23.2)\n",
            "Requirement already satisfied: requests in /usr/local/lib/python3.10/dist-packages (from keras-tuner) (2.31.0)\n",
            "Requirement already satisfied: kt-legacy in /usr/local/lib/python3.10/dist-packages (from keras-tuner) (1.0.5)\n",
            "Requirement already satisfied: charset-normalizer<4,>=2 in /usr/local/lib/python3.10/dist-packages (from requests->keras-tuner) (3.3.2)\n",
            "Requirement already satisfied: idna<4,>=2.5 in /usr/local/lib/python3.10/dist-packages (from requests->keras-tuner) (3.6)\n",
            "Requirement already satisfied: urllib3<3,>=1.21.1 in /usr/local/lib/python3.10/dist-packages (from requests->keras-tuner) (2.0.7)\n",
            "Requirement already satisfied: certifi>=2017.4.17 in /usr/local/lib/python3.10/dist-packages (from requests->keras-tuner) (2023.11.17)\n"
          ]
        }
      ],
      "source": [
        "!pip install keras-tuner"
      ]
    },
    {
      "cell_type": "code",
      "source": [
        "# 1- Yapay Sinir Ağı Tasarla\n",
        "from keras.models import Sequential\n",
        "from keras.layers import Conv2D, MaxPooling2D, Flatten, Dense, Dropout\n",
        "\n",
        "model = Sequential()\n",
        "\n",
        "# Convolutional layer 1\n",
        "model.add(Conv2D(64, (3, 3), activation='relu', input_shape=(IMG_SIZE, IMG_SIZE, 3)))\n",
        "model.add(MaxPooling2D(pool_size=(2, 2)))\n",
        "\n",
        "# Convolutional layer 2\n",
        "model.add(Conv2D(128, (3, 3), activation='relu'))\n",
        "model.add(MaxPooling2D(pool_size=(2, 2)))\n",
        "\n",
        "# Convolutional layer 3\n",
        "model.add(Conv2D(256, (3, 3), activation='relu'))\n",
        "model.add(MaxPooling2D(pool_size=(2, 2)))\n",
        "\n",
        "# Flatten layer\n",
        "model.add(Flatten())\n",
        "\n",
        "# Dense (fully connected) layer 1\n",
        "model.add(Dense(512, activation='relu'))\n",
        "model.add(Dropout(0.5))# Output layer\n",
        "model.add(Dense(2, activation='softmax'))\n",
        "\n",
        "\n",
        "# Compile the model\n",
        "model.compile(optimizer='adam', loss='categorical_crossentropy', metrics=['accuracy'])\n",
        "\n",
        "# 2- Modelin Performansını Değerlendirme\n",
        "history = model.fit(x_train, train_yCl, validation_data=(x_val, valid_yCl), epochs=25, batch_size=64)\n",
        "\n",
        "# 3- Test verisinin değerlendirilmesi\n",
        "from sklearn.metrics import accuracy_score, precision_score, recall_score, f1_score, confusion_matrix, classification_report\n",
        "\n",
        "# Tahminler\n",
        "y_pred_prob = model.predict(x_test)\n",
        "y_pred = np.argmax(y_pred_prob, axis=1)\n",
        "\n",
        "\n",
        "# One-hot encoding'i geri dönüştürme\n",
        "y_test_labels = np.argmax(test_yCl, axis=1)\n",
        "\n",
        "# Accuracy\n",
        "accuracy = accuracy_score(y_test_labels, y_pred)\n",
        "print(f\"Accuracy: {accuracy}\")\n",
        "\n",
        "# Precision\n",
        "precision = precision_score(y_test_labels, y_pred)\n",
        "print(f\"Precision: {precision}\")\n",
        "\n",
        "# Recall\n",
        "recall = recall_score(y_test_labels, y_pred)\n",
        "print(f\"Recall: {recall}\")\n",
        "\n",
        "# F1 Score\n",
        "f1 = f1_score(y_test_labels, y_pred)\n",
        "print(f\"F1 Score: {f1}\")\n",
        "\n",
        "# Karmaşıklık Matrisi\n",
        "conf_matrix = confusion_matrix(y_test_labels, y_pred)\n",
        "print(\"Confusion Matrix:\")\n",
        "print(conf_matrix)\n",
        "\n",
        "# Classification Report\n",
        "class_report = classification_report(y_test_labels, y_pred)\n",
        "print(\"Classification Report:\")\n",
        "print(class_report)\n"
      ],
      "metadata": {
        "colab": {
          "base_uri": "https://localhost:8080/"
        },
        "id": "qMvtfia3mi8D",
        "outputId": "cf0d8032-3325-42dc-ce36-58dbdc5461cb"
      },
      "execution_count": 23,
      "outputs": [
        {
          "output_type": "stream",
          "name": "stdout",
          "text": [
            "Epoch 1/25\n",
            "182/182 [==============================] - 14s 51ms/step - loss: 8.0570 - accuracy: 0.6576 - val_loss: 0.5525 - val_accuracy: 0.7535\n",
            "Epoch 2/25\n",
            "182/182 [==============================] - 9s 49ms/step - loss: 0.5550 - accuracy: 0.7316 - val_loss: 0.5422 - val_accuracy: 0.7318\n",
            "Epoch 3/25\n",
            "182/182 [==============================] - 8s 42ms/step - loss: 0.5372 - accuracy: 0.7389 - val_loss: 0.5102 - val_accuracy: 0.7736\n",
            "Epoch 4/25\n",
            "182/182 [==============================] - 8s 43ms/step - loss: 0.4959 - accuracy: 0.7621 - val_loss: 0.5156 - val_accuracy: 0.7674\n",
            "Epoch 5/25\n",
            "182/182 [==============================] - 8s 42ms/step - loss: 0.4690 - accuracy: 0.7800 - val_loss: 0.4684 - val_accuracy: 0.7844\n",
            "Epoch 6/25\n",
            "182/182 [==============================] - 8s 43ms/step - loss: 0.4553 - accuracy: 0.7870 - val_loss: 0.4474 - val_accuracy: 0.8022\n",
            "Epoch 7/25\n",
            "182/182 [==============================] - 8s 42ms/step - loss: 0.4140 - accuracy: 0.8102 - val_loss: 0.4050 - val_accuracy: 0.8168\n",
            "Epoch 8/25\n",
            "182/182 [==============================] - 8s 42ms/step - loss: 0.3672 - accuracy: 0.8286 - val_loss: 0.3726 - val_accuracy: 0.8308\n",
            "Epoch 9/25\n",
            "182/182 [==============================] - 8s 41ms/step - loss: 0.3314 - accuracy: 0.8488 - val_loss: 0.3424 - val_accuracy: 0.8400\n",
            "Epoch 10/25\n",
            "182/182 [==============================] - 8s 42ms/step - loss: 0.2943 - accuracy: 0.8703 - val_loss: 0.3603 - val_accuracy: 0.8284\n",
            "Epoch 11/25\n",
            "182/182 [==============================] - 8s 42ms/step - loss: 0.2941 - accuracy: 0.8706 - val_loss: 0.3766 - val_accuracy: 0.8439\n",
            "Epoch 12/25\n",
            "182/182 [==============================] - 8s 42ms/step - loss: 0.2625 - accuracy: 0.8877 - val_loss: 0.2749 - val_accuracy: 0.8934\n",
            "Epoch 13/25\n",
            "182/182 [==============================] - 8s 43ms/step - loss: 0.2195 - accuracy: 0.9063 - val_loss: 0.2864 - val_accuracy: 0.8988\n",
            "Epoch 14/25\n",
            "182/182 [==============================] - 8s 42ms/step - loss: 0.2001 - accuracy: 0.9206 - val_loss: 0.2666 - val_accuracy: 0.8941\n",
            "Epoch 15/25\n",
            "182/182 [==============================] - 8s 42ms/step - loss: 0.1774 - accuracy: 0.9305 - val_loss: 0.2197 - val_accuracy: 0.9019\n",
            "Epoch 16/25\n",
            "182/182 [==============================] - 8s 42ms/step - loss: 0.1508 - accuracy: 0.9387 - val_loss: 0.1935 - val_accuracy: 0.9212\n",
            "Epoch 17/25\n",
            "182/182 [==============================] - 8s 42ms/step - loss: 0.1399 - accuracy: 0.9461 - val_loss: 0.1766 - val_accuracy: 0.9335\n",
            "Epoch 18/25\n",
            "182/182 [==============================] - 8s 42ms/step - loss: 0.1330 - accuracy: 0.9521 - val_loss: 0.1433 - val_accuracy: 0.9382\n",
            "Epoch 19/25\n",
            "182/182 [==============================] - 8s 41ms/step - loss: 0.1217 - accuracy: 0.9569 - val_loss: 0.1473 - val_accuracy: 0.9459\n",
            "Epoch 20/25\n",
            "182/182 [==============================] - 8s 42ms/step - loss: 0.1081 - accuracy: 0.9612 - val_loss: 0.1168 - val_accuracy: 0.9629\n",
            "Epoch 21/25\n",
            "182/182 [==============================] - 8s 41ms/step - loss: 0.0765 - accuracy: 0.9707 - val_loss: 0.1086 - val_accuracy: 0.9614\n",
            "Epoch 22/25\n",
            "182/182 [==============================] - 8s 42ms/step - loss: 0.0797 - accuracy: 0.9727 - val_loss: 0.1116 - val_accuracy: 0.9606\n",
            "Epoch 23/25\n",
            "182/182 [==============================] - 8s 43ms/step - loss: 0.0546 - accuracy: 0.9826 - val_loss: 0.0959 - val_accuracy: 0.9606\n",
            "Epoch 24/25\n",
            "182/182 [==============================] - 8s 42ms/step - loss: 0.0912 - accuracy: 0.9719 - val_loss: 0.1554 - val_accuracy: 0.9521\n",
            "Epoch 25/25\n",
            "182/182 [==============================] - 7s 41ms/step - loss: 0.1042 - accuracy: 0.9653 - val_loss: 0.1046 - val_accuracy: 0.9714\n",
            "102/102 [==============================] - 1s 7ms/step\n",
            "Accuracy: 0.9622758194186766\n",
            "Precision: 0.9524200164068909\n",
            "Recall: 0.9477551020408164\n",
            "F1 Score: 0.9500818330605566\n",
            "Confusion Matrix:\n",
            "[[1951   58]\n",
            " [  64 1161]]\n",
            "Classification Report:\n",
            "              precision    recall  f1-score   support\n",
            "\n",
            "           0       0.97      0.97      0.97      2009\n",
            "           1       0.95      0.95      0.95      1225\n",
            "\n",
            "    accuracy                           0.96      3234\n",
            "   macro avg       0.96      0.96      0.96      3234\n",
            "weighted avg       0.96      0.96      0.96      3234\n",
            "\n"
          ]
        }
      ]
    }
  ],
  "metadata": {
    "colab": {
      "provenance": [],
      "gpuType": "T4"
    },
    "kernelspec": {
      "display_name": "Python 3",
      "name": "python3"
    },
    "language_info": {
      "name": "python"
    },
    "accelerator": "GPU"
  },
  "nbformat": 4,
  "nbformat_minor": 0
}