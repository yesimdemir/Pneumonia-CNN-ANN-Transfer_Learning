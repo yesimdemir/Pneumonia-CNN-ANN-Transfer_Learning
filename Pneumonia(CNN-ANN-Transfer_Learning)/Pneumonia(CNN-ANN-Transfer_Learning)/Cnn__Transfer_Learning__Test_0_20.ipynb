{
  "cells": [
    {
      "cell_type": "code",
      "execution_count": 1,
      "metadata": {
        "colab": {
          "base_uri": "https://localhost:8080/"
        },
        "id": "BpWBG_1pMy2J",
        "outputId": "c1776e5b-2892-4bbc-cafa-24f4ffb371da"
      },
      "outputs": [
        {
          "output_type": "stream",
          "name": "stdout",
          "text": [
            "Requirement already satisfied: scikit-learn in /usr/local/lib/python3.10/dist-packages (1.2.2)\n",
            "Collecting scikit-learn\n",
            "  Downloading scikit_learn-1.3.2-cp310-cp310-manylinux_2_17_x86_64.manylinux2014_x86_64.whl (10.8 MB)\n",
            "\u001b[2K     \u001b[90m━━━━━━━━━━━━━━━━━━━━━━━━━━━━━━━━━━━━━━━━\u001b[0m \u001b[32m10.8/10.8 MB\u001b[0m \u001b[31m40.9 MB/s\u001b[0m eta \u001b[36m0:00:00\u001b[0m\n",
            "\u001b[?25hRequirement already satisfied: numpy<2.0,>=1.17.3 in /usr/local/lib/python3.10/dist-packages (from scikit-learn) (1.23.5)\n",
            "Requirement already satisfied: scipy>=1.5.0 in /usr/local/lib/python3.10/dist-packages (from scikit-learn) (1.11.4)\n",
            "Requirement already satisfied: joblib>=1.1.1 in /usr/local/lib/python3.10/dist-packages (from scikit-learn) (1.3.2)\n",
            "Requirement already satisfied: threadpoolctl>=2.0.0 in /usr/local/lib/python3.10/dist-packages (from scikit-learn) (3.2.0)\n",
            "Installing collected packages: scikit-learn\n",
            "  Attempting uninstall: scikit-learn\n",
            "    Found existing installation: scikit-learn 1.2.2\n",
            "    Uninstalling scikit-learn-1.2.2:\n",
            "      Successfully uninstalled scikit-learn-1.2.2\n",
            "Successfully installed scikit-learn-1.3.2\n"
          ]
        }
      ],
      "source": [
        "pip install -U scikit-learn\n"
      ]
    },
    {
      "cell_type": "code",
      "execution_count": 2,
      "metadata": {
        "colab": {
          "base_uri": "https://localhost:8080/"
        },
        "id": "K63dBPgjM4ep",
        "outputId": "a0968fe5-23d2-443a-dcc7-cba93b1c7afe"
      },
      "outputs": [
        {
          "output_type": "stream",
          "name": "stdout",
          "text": [
            "Mounted at /gdrive\n"
          ]
        }
      ],
      "source": [
        "from google.colab import drive\n",
        "drive.mount('/gdrive')"
      ]
    },
    {
      "cell_type": "code",
      "execution_count": 3,
      "metadata": {
        "id": "nf7pJVWMND_w"
      },
      "outputs": [],
      "source": [
        "import numpy as np # linear algebra\n",
        "import pandas as pd # data processing, CSV file I/O (e.g. pd.read_csv)\n",
        "import matplotlib.pyplot as plt\n",
        "import seaborn as sns\n",
        "import glob\n",
        "import cv2\n",
        "import os"
      ]
    },
    {
      "cell_type": "code",
      "execution_count": 4,
      "metadata": {
        "colab": {
          "base_uri": "https://localhost:8080/"
        },
        "id": "1q8GTueXNGdI",
        "outputId": "1750663b-ec3d-40f5-bc69-efcc15a81227"
      },
      "outputs": [
        {
          "output_type": "stream",
          "name": "stdout",
          "text": [
            "['X-Ray']\n"
          ]
        }
      ],
      "source": [
        "#import os\n",
        "print(os.listdir(\"/gdrive/My Drive/Colab Notebooks/Pneumonia\"))"
      ]
    },
    {
      "cell_type": "code",
      "execution_count": 5,
      "metadata": {
        "id": "gInvMRMWNJTJ"
      },
      "outputs": [],
      "source": [
        "DATADIR = '/gdrive/My Drive/Colab Notebooks/Pneumonia/X-Ray'\n",
        "\n",
        "CATEGORIES = CATEGORIES = [\"Bacterial\",\"Viral\"]"
      ]
    },
    {
      "cell_type": "code",
      "execution_count": 6,
      "metadata": {
        "id": "XS9Z2RXyNLRq"
      },
      "outputs": [],
      "source": [
        "IMG_SIZE = 100"
      ]
    },
    {
      "cell_type": "code",
      "execution_count": 7,
      "metadata": {
        "id": "hkspLmenNM6L"
      },
      "outputs": [],
      "source": [
        "all_data =[]\n",
        "\n",
        "def create_all_data():\n",
        "    for category in CATEGORIES:\n",
        "        path=os.path.join(DATADIR, category)\n",
        "        class_num=CATEGORIES.index(category)\n",
        "        for img in os.listdir(path):\n",
        "            try:\n",
        "                img_array=cv2.imread(os.path.join(path,img))\n",
        "                new_array=cv2.resize(img_array,(IMG_SIZE,IMG_SIZE))\n",
        "                all_data.append([new_array,class_num])\n",
        "            except Exception as e:\n",
        "                pass\n",
        "create_all_data()"
      ]
    },
    {
      "cell_type": "code",
      "execution_count": 8,
      "metadata": {
        "colab": {
          "base_uri": "https://localhost:8080/"
        },
        "id": "LjuYzVq7NObI",
        "outputId": "886bcede-1e55-4baf-d4fc-c6dc19d7e445"
      },
      "outputs": [
        {
          "output_type": "stream",
          "name": "stdout",
          "text": [
            "Toplam Görüntü Sayısı:  16167\n"
          ]
        }
      ],
      "source": [
        "print(\"Toplam Görüntü Sayısı: \", len(all_data))"
      ]
    },
    {
      "cell_type": "code",
      "execution_count": 9,
      "metadata": {
        "id": "kXYCmdTZNPZR"
      },
      "outputs": [],
      "source": [
        "X = []\n",
        "y = []\n",
        "\n",
        "for categories, label in all_data:\n",
        "  X.append(categories)\n",
        "  y.append(label)"
      ]
    },
    {
      "cell_type": "code",
      "execution_count": 10,
      "metadata": {
        "id": "FSRQeHNXNQ9f"
      },
      "outputs": [],
      "source": [
        "from sklearn.model_selection import train_test_split\n",
        "\n",
        "x_train, x_test, y_train, y_test = train_test_split(X, y, test_size=0.20, random_state =42)\n",
        "\n",
        "x_train, x_val, y_train, y_val = train_test_split(x_train, y_train, test_size=0.10, random_state=42)"
      ]
    },
    {
      "cell_type": "code",
      "execution_count": 11,
      "metadata": {
        "id": "sQzTVP3jNTtl"
      },
      "outputs": [],
      "source": [
        "x_train = np.array(x_train)\n",
        "x_test = np.array(x_test)\n",
        "\n",
        "y_train = np.array(y_train)\n",
        "y_test = np.array(y_test)\n",
        "\n",
        "x_val = np.array(x_val)\n",
        "y_val = np.array(y_val)"
      ]
    },
    {
      "cell_type": "code",
      "execution_count": 12,
      "metadata": {
        "colab": {
          "base_uri": "https://localhost:8080/"
        },
        "id": "3f5jP_CWNVT-",
        "outputId": "5dd87db2-b1c6-471c-9ae7-82186a487fd0"
      },
      "outputs": [
        {
          "output_type": "stream",
          "name": "stdout",
          "text": [
            "(11639, 100, 100, 3)\n",
            "(3234, 100, 100, 3)\n",
            "(1294, 100, 100, 3)\n",
            "(11639,)\n",
            "(3234,)\n",
            "(1294,)\n"
          ]
        }
      ],
      "source": [
        "print(x_train.shape)\n",
        "print(x_test.shape)\n",
        "print(x_val.shape)\n",
        "\n",
        "print(y_train.shape)\n",
        "print(y_test.shape)\n",
        "print(y_val.shape)"
      ]
    },
    {
      "cell_type": "code",
      "execution_count": 13,
      "metadata": {
        "id": "K6I1cxqRNXCc"
      },
      "outputs": [],
      "source": [
        "import tensorflow as tf\n",
        "\n",
        "train_yCl = tf.keras.utils.to_categorical(y_train, num_classes=2)\n",
        "test_yCl = tf.keras.utils.to_categorical(y_test, num_classes=2)\n",
        "valid_yCl = tf.keras.utils.to_categorical(y_val, num_classes=2)"
      ]
    },
    {
      "cell_type": "code",
      "execution_count": 16,
      "metadata": {
        "colab": {
          "base_uri": "https://localhost:8080/"
        },
        "id": "DGS5Or4OWNnG",
        "outputId": "d5eec384-33be-4e40-e892-3ce2f73b691d"
      },
      "outputs": [
        {
          "output_type": "stream",
          "name": "stdout",
          "text": [
            "Requirement already satisfied: keras_tuner in /usr/local/lib/python3.10/dist-packages (1.4.6)\n",
            "Requirement already satisfied: keras in /usr/local/lib/python3.10/dist-packages (from keras_tuner) (2.15.0)\n",
            "Requirement already satisfied: packaging in /usr/local/lib/python3.10/dist-packages (from keras_tuner) (23.2)\n",
            "Requirement already satisfied: requests in /usr/local/lib/python3.10/dist-packages (from keras_tuner) (2.31.0)\n",
            "Requirement already satisfied: kt-legacy in /usr/local/lib/python3.10/dist-packages (from keras_tuner) (1.0.5)\n",
            "Requirement already satisfied: charset-normalizer<4,>=2 in /usr/local/lib/python3.10/dist-packages (from requests->keras_tuner) (3.3.2)\n",
            "Requirement already satisfied: idna<4,>=2.5 in /usr/local/lib/python3.10/dist-packages (from requests->keras_tuner) (3.6)\n",
            "Requirement already satisfied: urllib3<3,>=1.21.1 in /usr/local/lib/python3.10/dist-packages (from requests->keras_tuner) (2.0.7)\n",
            "Requirement already satisfied: certifi>=2017.4.17 in /usr/local/lib/python3.10/dist-packages (from requests->keras_tuner) (2023.11.17)\n"
          ]
        }
      ],
      "source": [
        "!pip install keras_tuner"
      ]
    },
    {
      "cell_type": "code",
      "execution_count": 19,
      "metadata": {
        "colab": {
          "base_uri": "https://localhost:8080/"
        },
        "id": "HsdqqtyaNgPg",
        "outputId": "31b27d12-9690-4931-b662-300f4332dfc1"
      },
      "outputs": [
        {
          "output_type": "stream",
          "name": "stdout",
          "text": [
            "Trial 5 Complete [00h 01m 01s]\n",
            "val_accuracy: 0.7588871717453003\n",
            "\n",
            "Best val_accuracy So Far: 0.760432779788971\n",
            "Total elapsed time: 00h 05m 53s\n",
            "Epoch 1/25\n",
            "182/182 [==============================] - 20s 86ms/step - loss: 0.4627 - accuracy: 0.7661 - val_loss: 0.4606 - val_accuracy: 0.7566\n",
            "Epoch 2/25\n",
            "182/182 [==============================] - 15s 84ms/step - loss: 0.4866 - accuracy: 0.7600 - val_loss: 0.5777 - val_accuracy: 0.7519\n",
            "Epoch 3/25\n",
            "182/182 [==============================] - 15s 84ms/step - loss: 0.4513 - accuracy: 0.7678 - val_loss: 0.4365 - val_accuracy: 0.7774\n",
            "Epoch 4/25\n",
            "182/182 [==============================] - 15s 83ms/step - loss: 0.3994 - accuracy: 0.7864 - val_loss: 0.5376 - val_accuracy: 0.7488\n",
            "Epoch 5/25\n",
            "182/182 [==============================] - 15s 83ms/step - loss: 0.3681 - accuracy: 0.7953 - val_loss: 0.3533 - val_accuracy: 0.8091\n",
            "Epoch 6/25\n",
            "182/182 [==============================] - 15s 84ms/step - loss: 0.3170 - accuracy: 0.8200 - val_loss: 0.3361 - val_accuracy: 0.8230\n",
            "Epoch 7/25\n",
            "182/182 [==============================] - 15s 83ms/step - loss: 0.2892 - accuracy: 0.8478 - val_loss: 0.2972 - val_accuracy: 0.8431\n",
            "Epoch 8/25\n",
            "182/182 [==============================] - 15s 84ms/step - loss: 0.2582 - accuracy: 0.8654 - val_loss: 0.4068 - val_accuracy: 0.7991\n",
            "Epoch 9/25\n",
            "182/182 [==============================] - 15s 83ms/step - loss: 0.2250 - accuracy: 0.8787 - val_loss: 0.4663 - val_accuracy: 0.7821\n",
            "Epoch 10/25\n",
            "182/182 [==============================] - 15s 84ms/step - loss: 0.1954 - accuracy: 0.8918 - val_loss: 0.2038 - val_accuracy: 0.8995\n",
            "Epoch 11/25\n",
            "182/182 [==============================] - 15s 83ms/step - loss: 0.1867 - accuracy: 0.9017 - val_loss: 0.2474 - val_accuracy: 0.8833\n",
            "Epoch 12/25\n",
            "182/182 [==============================] - 15s 83ms/step - loss: 0.1932 - accuracy: 0.9038 - val_loss: 0.1589 - val_accuracy: 0.9281\n",
            "Epoch 13/25\n",
            "182/182 [==============================] - 15s 84ms/step - loss: 0.1538 - accuracy: 0.9192 - val_loss: 0.1485 - val_accuracy: 0.9281\n",
            "Epoch 14/25\n",
            "182/182 [==============================] - 15s 83ms/step - loss: 0.1449 - accuracy: 0.9262 - val_loss: 88.4179 - val_accuracy: 0.3926\n",
            "Epoch 15/25\n",
            "182/182 [==============================] - 15s 84ms/step - loss: 0.1407 - accuracy: 0.9288 - val_loss: 0.1177 - val_accuracy: 0.9459\n",
            "Epoch 16/25\n",
            "182/182 [==============================] - 15s 83ms/step - loss: 0.1314 - accuracy: 0.9305 - val_loss: 0.1015 - val_accuracy: 0.9505\n",
            "Epoch 17/25\n",
            "182/182 [==============================] - 15s 83ms/step - loss: 0.1108 - accuracy: 0.9395 - val_loss: 0.1085 - val_accuracy: 0.9467\n",
            "Epoch 18/25\n",
            "182/182 [==============================] - 15s 83ms/step - loss: 0.1014 - accuracy: 0.9478 - val_loss: 0.0981 - val_accuracy: 0.9629\n",
            "Epoch 19/25\n",
            "182/182 [==============================] - 15s 83ms/step - loss: 0.1051 - accuracy: 0.9484 - val_loss: 0.1058 - val_accuracy: 0.9382\n",
            "Epoch 20/25\n",
            "182/182 [==============================] - 15s 83ms/step - loss: 0.0894 - accuracy: 0.9530 - val_loss: 0.0763 - val_accuracy: 0.9660\n",
            "Epoch 21/25\n",
            "182/182 [==============================] - 15s 84ms/step - loss: 0.0814 - accuracy: 0.9622 - val_loss: 0.1287 - val_accuracy: 0.9544\n",
            "Epoch 22/25\n",
            "182/182 [==============================] - 15s 83ms/step - loss: 0.0915 - accuracy: 0.9627 - val_loss: 0.1778 - val_accuracy: 0.9459\n",
            "Epoch 23/25\n",
            "182/182 [==============================] - 15s 84ms/step - loss: 0.0755 - accuracy: 0.9629 - val_loss: 0.0724 - val_accuracy: 0.9691\n",
            "Epoch 24/25\n",
            "182/182 [==============================] - 15s 83ms/step - loss: 0.0762 - accuracy: 0.9627 - val_loss: 0.0657 - val_accuracy: 0.9706\n",
            "Epoch 25/25\n",
            "182/182 [==============================] - 15s 83ms/step - loss: 0.0660 - accuracy: 0.9671 - val_loss: 0.0794 - val_accuracy: 0.9722\n"
          ]
        },
        {
          "output_type": "execute_result",
          "data": {
            "text/plain": [
              "<keras.src.callbacks.History at 0x7c10fc5569b0>"
            ]
          },
          "metadata": {},
          "execution_count": 19
        }
      ],
      "source": [
        "from kerastuner.tuners import RandomSearch\n",
        "from tensorflow import keras\n",
        "from keras.models import Sequential\n",
        "from keras.layers import Input, Dense, Activation, BatchNormalization, Flatten, Conv2D, MaxPooling2D, Dropout\n",
        "\n",
        "model = Sequential()\n",
        "\n",
        "def build_model(hp):\n",
        "    model = Sequential()\n",
        "    model.add(Conv2D(hp.Int('conv1_units', min_value=32, max_value=128, step=32), (3,3), padding='same', input_shape=(IMG_SIZE, IMG_SIZE, 3)))\n",
        "    model.add(Activation('relu'))\n",
        "    model.add(Conv2D(hp.Int('conv2_units', min_value=32, max_value=128, step=32), (3,3), padding='same'))\n",
        "    model.add(Activation('relu'))\n",
        "    model.add(MaxPooling2D(pool_size=(2,2)))\n",
        "    model.add(BatchNormalization())\n",
        "    model.add(Dropout(hp.Float('dropout_1', min_value=0.1, max_value=0.5, step=0.1)))\n",
        "\n",
        "    model.add(Flatten())\n",
        "    model.add(Dense(hp.Int('dense1_units', min_value=256, max_value=512, step=256)))\n",
        "    model.add(Activation('relu'))\n",
        "    model.add(Dropout(hp.Float('dropout_2', min_value=0.1, max_value=0.5, step=0.1)))\n",
        "    model.add(Dense(2))\n",
        "    model.add(Activation('softmax'))\n",
        "\n",
        "    model.compile(loss=\"categorical_crossentropy\", optimizer=\"adam\", metrics=['accuracy'])\n",
        "    return model\n",
        "\n",
        "tuner = RandomSearch(\n",
        "    build_model,\n",
        "    objective='val_accuracy',\n",
        "    max_trials=5,  # Reduce the number of trials\n",
        "    directory='my_tuner_dir',\n",
        "    project_name='pneumonia_tuning'\n",
        ")\n",
        "\n",
        "tuner.search(x_train, train_yCl, validation_data=(x_val, valid_yCl))\n",
        "\n",
        "best_model = tuner.get_best_models(num_models=1)[0]\n",
        "best_model.fit(x_train, train_yCl, validation_data=(x_val, valid_yCl), epochs=25, batch_size=64)\n"
      ]
    },
    {
      "cell_type": "code",
      "execution_count": 20,
      "metadata": {
        "colab": {
          "base_uri": "https://localhost:8080/"
        },
        "id": "jr--rTgU3WET",
        "outputId": "2577628c-070a-4d25-826e-b5a5f4174201"
      },
      "outputs": [
        {
          "output_type": "stream",
          "name": "stdout",
          "text": [
            "102/102 [==============================] - 1s 9ms/step\n",
            "Test Accuracy: 0.9700061842918986\n",
            "Precision: 0.9707917989142413\n",
            "Recall: 0.9700061842918986\n",
            "F1 Score: 0.969801552102437\n",
            "Confusion Matrix:\n",
            "[[1999   10]\n",
            " [  87 1138]]\n",
            "Classification Report:\n",
            "              precision    recall  f1-score   support\n",
            "\n",
            "           0       0.96      1.00      0.98      2009\n",
            "           1       0.99      0.93      0.96      1225\n",
            "\n",
            "    accuracy                           0.97      3234\n",
            "   macro avg       0.97      0.96      0.97      3234\n",
            "weighted avg       0.97      0.97      0.97      3234\n",
            "\n"
          ]
        }
      ],
      "source": [
        "from sklearn.metrics import accuracy_score, precision_score, recall_score, f1_score, confusion_matrix, classification_report\n",
        "\n",
        "# Test verisi üzerinde modelin tahminlerini al\n",
        "y_pred = best_model.predict(x_test)\n",
        "\n",
        "# Tahminlerden sınıf indekslerini elde et\n",
        "y_pred_classes = np.argmax(y_pred, axis=1)\n",
        "\n",
        "# Gerçek sınıfları elde et\n",
        "y_true = np.argmax(test_yCl, axis=1)\n",
        "\n",
        "# Accuracy hesapla\n",
        "accuracy = accuracy_score(y_true, y_pred_classes)\n",
        "print(f'Test Accuracy: {accuracy}')\n",
        "\n",
        "# Precision hesapla\n",
        "precision = precision_score(y_true, y_pred_classes, average='weighted')\n",
        "print(f'Precision: {precision}')\n",
        "\n",
        "# Recall hesapla\n",
        "recall = recall_score(y_true, y_pred_classes, average='weighted')\n",
        "print(f'Recall: {recall}')\n",
        "\n",
        "# F1 score hesapla\n",
        "f1 = f1_score(y_true, y_pred_classes, average='weighted')\n",
        "print(f'F1 Score: {f1}')\n",
        "\n",
        "# Karmaşıklık Matrisi hesapla\n",
        "conf_matrix = confusion_matrix(y_true, y_pred_classes)\n",
        "print('Confusion Matrix:')\n",
        "print(conf_matrix)\n",
        "\n",
        "# Classification Report hesapla\n",
        "class_report = classification_report(y_true, y_pred_classes)\n",
        "print('Classification Report:')\n",
        "print(class_report)\n"
      ]
    },
    {
      "cell_type": "code",
      "execution_count": 21,
      "metadata": {
        "colab": {
          "base_uri": "https://localhost:8080/"
        },
        "id": "3RoOPd_D6fkn",
        "outputId": "ffa92ded-507f-4781-a09f-cced684882f7"
      },
      "outputs": [
        {
          "output_type": "stream",
          "name": "stdout",
          "text": [
            "Downloading data from https://storage.googleapis.com/tensorflow/keras-applications/vgg16/vgg16_weights_tf_dim_ordering_tf_kernels_notop.h5\n",
            "58889256/58889256 [==============================] - 3s 0us/step\n"
          ]
        },
        {
          "output_type": "stream",
          "name": "stderr",
          "text": [
            "WARNING:absl:`lr` is deprecated in Keras optimizer, please use `learning_rate` or use the legacy optimizer, e.g.,tf.keras.optimizers.legacy.Adam.\n"
          ]
        },
        {
          "output_type": "stream",
          "name": "stdout",
          "text": [
            "Epoch 1/25\n",
            "182/182 [==============================] - 21s 88ms/step - loss: 2.4953 - accuracy: 0.7075 - val_loss: 0.4854 - val_accuracy: 0.7798\n",
            "Epoch 2/25\n",
            "182/182 [==============================] - 12s 67ms/step - loss: 0.4701 - accuracy: 0.7791 - val_loss: 0.3932 - val_accuracy: 0.8076\n",
            "Epoch 3/25\n",
            "182/182 [==============================] - 12s 68ms/step - loss: 0.4037 - accuracy: 0.8081 - val_loss: 0.3526 - val_accuracy: 0.8277\n",
            "Epoch 4/25\n",
            "182/182 [==============================] - 12s 68ms/step - loss: 0.3703 - accuracy: 0.8296 - val_loss: 0.3173 - val_accuracy: 0.8617\n",
            "Epoch 5/25\n",
            "182/182 [==============================] - 12s 68ms/step - loss: 0.3362 - accuracy: 0.8453 - val_loss: 0.2550 - val_accuracy: 0.8879\n",
            "Epoch 6/25\n",
            "182/182 [==============================] - 12s 68ms/step - loss: 0.3128 - accuracy: 0.8529 - val_loss: 0.2736 - val_accuracy: 0.8794\n",
            "Epoch 7/25\n",
            "182/182 [==============================] - 13s 69ms/step - loss: 0.3155 - accuracy: 0.8452 - val_loss: 0.2493 - val_accuracy: 0.8887\n",
            "Epoch 8/25\n",
            "182/182 [==============================] - 13s 69ms/step - loss: 0.2788 - accuracy: 0.8683 - val_loss: 0.2050 - val_accuracy: 0.9104\n",
            "Epoch 9/25\n",
            "182/182 [==============================] - 13s 69ms/step - loss: 0.2580 - accuracy: 0.8798 - val_loss: 0.2254 - val_accuracy: 0.8964\n",
            "Epoch 10/25\n",
            "182/182 [==============================] - 13s 70ms/step - loss: 0.2517 - accuracy: 0.8771 - val_loss: 0.1542 - val_accuracy: 0.9389\n",
            "Epoch 11/25\n",
            "182/182 [==============================] - 13s 71ms/step - loss: 0.2193 - accuracy: 0.8919 - val_loss: 0.1521 - val_accuracy: 0.9413\n",
            "Epoch 12/25\n",
            "182/182 [==============================] - 13s 70ms/step - loss: 0.2400 - accuracy: 0.8846 - val_loss: 0.1654 - val_accuracy: 0.9266\n",
            "Epoch 13/25\n",
            "182/182 [==============================] - 13s 70ms/step - loss: 0.2105 - accuracy: 0.8996 - val_loss: 0.1201 - val_accuracy: 0.9521\n",
            "Epoch 14/25\n",
            "182/182 [==============================] - 13s 70ms/step - loss: 0.1971 - accuracy: 0.9038 - val_loss: 0.1382 - val_accuracy: 0.9444\n",
            "Epoch 15/25\n",
            "182/182 [==============================] - 13s 70ms/step - loss: 0.1908 - accuracy: 0.9079 - val_loss: 0.1162 - val_accuracy: 0.9606\n",
            "Epoch 16/25\n",
            "182/182 [==============================] - 13s 70ms/step - loss: 0.1827 - accuracy: 0.9108 - val_loss: 0.1193 - val_accuracy: 0.9498\n",
            "Epoch 17/25\n",
            "182/182 [==============================] - 13s 70ms/step - loss: 0.1777 - accuracy: 0.9077 - val_loss: 0.1437 - val_accuracy: 0.9405\n",
            "Epoch 18/25\n",
            "182/182 [==============================] - 13s 70ms/step - loss: 0.1711 - accuracy: 0.9113 - val_loss: 0.1387 - val_accuracy: 0.9389\n",
            "Epoch 19/25\n",
            "182/182 [==============================] - 13s 71ms/step - loss: 0.1743 - accuracy: 0.9116 - val_loss: 0.0988 - val_accuracy: 0.9652\n",
            "Epoch 20/25\n",
            "182/182 [==============================] - 13s 71ms/step - loss: 0.1664 - accuracy: 0.9196 - val_loss: 0.0920 - val_accuracy: 0.9660\n",
            "Epoch 21/25\n",
            "182/182 [==============================] - 13s 71ms/step - loss: 0.1498 - accuracy: 0.9258 - val_loss: 0.0938 - val_accuracy: 0.9621\n",
            "Epoch 22/25\n",
            "182/182 [==============================] - 13s 70ms/step - loss: 0.1688 - accuracy: 0.9109 - val_loss: 0.1075 - val_accuracy: 0.9598\n",
            "Epoch 23/25\n",
            "182/182 [==============================] - 13s 71ms/step - loss: 0.1842 - accuracy: 0.9091 - val_loss: 0.0803 - val_accuracy: 0.9652\n",
            "Epoch 24/25\n",
            "182/182 [==============================] - 13s 71ms/step - loss: 0.1332 - accuracy: 0.9313 - val_loss: 0.0769 - val_accuracy: 0.9683\n",
            "Epoch 25/25\n",
            "182/182 [==============================] - 13s 71ms/step - loss: 0.1440 - accuracy: 0.9272 - val_loss: 0.0792 - val_accuracy: 0.9668\n",
            "41/41 [==============================] - 3s 35ms/step - loss: 0.0792 - accuracy: 0.9668\n",
            "Validation Accuracy:  0.9667696952819824\n",
            "102/102 [==============================] - 4s 42ms/step - loss: 0.1251 - accuracy: 0.9570\n",
            "Test Accuracy:  0.9570191502571106\n",
            "364/364 [==============================] - 14s 38ms/step - loss: 0.0455 - accuracy: 0.9792\n",
            "Train Accuracy:  0.9792078137397766\n"
          ]
        }
      ],
      "source": [
        "import numpy as np\n",
        "from sklearn.model_selection import train_test_split\n",
        "from sklearn.preprocessing import StandardScaler\n",
        "from keras.models import Sequential\n",
        "from keras.layers import Dense, Flatten, Dropout\n",
        "from keras.applications import VGG16\n",
        "from keras.optimizers import Adam\n",
        "import tensorflow as tf\n",
        "\n",
        "# Verileri düzenleme\n",
        "IMG_SIZE = 100  # Örnek bir görüntü boyutu, kendi projenizdeki değere göre güncelleyin\n",
        "\n",
        "x_train_reshaped = x_train.reshape(-1, IMG_SIZE, IMG_SIZE, 3)\n",
        "x_test_reshaped = x_test.reshape(-1, IMG_SIZE, IMG_SIZE, 3)\n",
        "x_val_reshaped = x_val.reshape(-1, IMG_SIZE, IMG_SIZE, 3)\n",
        "\n",
        "# Verileri standartlaştırma\n",
        "scaler = StandardScaler()\n",
        "x_train_scaled = scaler.fit_transform(x_train_reshaped.reshape(x_train_reshaped.shape[0], -1))\n",
        "x_test_scaled = scaler.transform(x_test_reshaped.reshape(x_test_reshaped.shape[0], -1))\n",
        "x_val_scaled = scaler.transform(x_val_reshaped.reshape(x_val_reshaped.shape[0], -1))\n",
        "\n",
        "# Sınıfları kategorik hale getirme\n",
        "train_yCl = tf.keras.utils.to_categorical(y_train, num_classes=2)\n",
        "test_yCl = tf.keras.utils.to_categorical(y_test, num_classes=2)\n",
        "valid_yCl = tf.keras.utils.to_categorical(y_val, num_classes=2)\n",
        "\n",
        "# VGG16 modelini yükleme (weights='imagenet' ile önceden eğitilmiş ağırlıkları kullanma)\n",
        "base_model = VGG16(include_top=False, input_shape=(IMG_SIZE, IMG_SIZE, 3), weights='imagenet')\n",
        "\n",
        "# VGG16'nın evrişimli katmanlarını dondurma\n",
        "for layer in base_model.layers:\n",
        "    layer.trainable = False\n",
        "\n",
        "# Yeni bir model oluşturma\n",
        "model_transfer = Sequential()\n",
        "\n",
        "# VGG16'ın evrişimli katmanlarını ekleyerek transfer öğrenme\n",
        "model_transfer.add(base_model)\n",
        "model_transfer.add(Flatten())\n",
        "model_transfer.add(Dense(512, activation='relu'))\n",
        "model_transfer.add(Dropout(0.5))\n",
        "model_transfer.add(Dense(2, activation='softmax'))\n",
        "\n",
        "# Modeli derleme\n",
        "model_transfer.compile(optimizer=Adam(lr=0.001), loss='categorical_crossentropy', metrics=['accuracy'])\n",
        "\n",
        "# Modeli eğitme\n",
        "history_transfer = model_transfer.fit(x_train_reshaped, train_yCl,\n",
        "                                      batch_size=64,\n",
        "                                      epochs=25,\n",
        "                                      validation_data=(x_val_reshaped, valid_yCl))\n",
        "\n",
        "# Modelin performansını değerlendirme\n",
        "score_valid_transfer = model_transfer.evaluate(x_val_reshaped, valid_yCl)\n",
        "print(\"Validation Accuracy: \", score_valid_transfer[1])\n",
        "\n",
        "score_test_transfer = model_transfer.evaluate(x_test_reshaped, test_yCl)\n",
        "print(\"Test Accuracy: \", score_test_transfer[1])\n",
        "\n",
        "score_train_transfer = model_transfer.evaluate(x_train_reshaped, train_yCl)\n",
        "print(\"Train Accuracy: \", score_train_transfer[1])\n"
      ]
    },
    {
      "cell_type": "code",
      "execution_count": 22,
      "metadata": {
        "colab": {
          "base_uri": "https://localhost:8080/"
        },
        "id": "8h4eHfjmCAva",
        "outputId": "7b246a05-1e80-4f22-c6db-84ca2c301e48"
      },
      "outputs": [
        {
          "output_type": "stream",
          "name": "stdout",
          "text": [
            "102/102 [==============================] - 5s 40ms/step\n",
            "Precision:  0.9584127089609545\n",
            "Recall:  0.9570191713048856\n",
            "F1 Score:  0.9572378380251884\n",
            "Confusion Matrix:\n",
            "[[1904  105]\n",
            " [  34 1191]]\n",
            "Classification Report:\n",
            "              precision    recall  f1-score   support\n",
            "\n",
            "           0       0.98      0.95      0.96      2009\n",
            "           1       0.92      0.97      0.94      1225\n",
            "\n",
            "    accuracy                           0.96      3234\n",
            "   macro avg       0.95      0.96      0.95      3234\n",
            "weighted avg       0.96      0.96      0.96      3234\n",
            "\n"
          ]
        }
      ],
      "source": [
        "from sklearn.metrics import accuracy_score, precision_score, recall_score, f1_score, confusion_matrix, classification_report\n",
        "\n",
        "# Test verisi üzerinde tahmin yapma\n",
        "y_pred_transfer = model_transfer.predict(x_test_reshaped)\n",
        "y_pred_classes_transfer = np.argmax(y_pred_transfer, axis=1)\n",
        "y_true_classes_transfer = np.argmax(test_yCl, axis=1)\n",
        "\n",
        "\n",
        "# Precision, Recall, F1 Score\n",
        "precision_transfer = precision_score(y_true_classes_transfer, y_pred_classes_transfer, average='weighted')\n",
        "recall_transfer = recall_score(y_true_classes_transfer, y_pred_classes_transfer, average='weighted')\n",
        "f1_transfer = f1_score(y_true_classes_transfer, y_pred_classes_transfer, average='weighted')\n",
        "\n",
        "print(\"Precision: \", precision_transfer)\n",
        "print(\"Recall: \", recall_transfer)\n",
        "print(\"F1 Score: \", f1_transfer)\n",
        "\n",
        "# Karmaşıklık Matrisi\n",
        "conf_matrix_transfer = confusion_matrix(y_true_classes_transfer, y_pred_classes_transfer)\n",
        "print(\"Confusion Matrix:\")\n",
        "print(conf_matrix_transfer)\n",
        "\n",
        "# Classification Report\n",
        "class_report_transfer = classification_report(y_true_classes_transfer, y_pred_classes_transfer)\n",
        "print(\"Classification Report:\")\n",
        "print(class_report_transfer)\n"
      ]
    }
  ],
  "metadata": {
    "colab": {
      "provenance": [],
      "gpuType": "T4"
    },
    "kernelspec": {
      "display_name": "Python 3",
      "name": "python3"
    },
    "language_info": {
      "name": "python"
    },
    "accelerator": "GPU"
  },
  "nbformat": 4,
  "nbformat_minor": 0
}