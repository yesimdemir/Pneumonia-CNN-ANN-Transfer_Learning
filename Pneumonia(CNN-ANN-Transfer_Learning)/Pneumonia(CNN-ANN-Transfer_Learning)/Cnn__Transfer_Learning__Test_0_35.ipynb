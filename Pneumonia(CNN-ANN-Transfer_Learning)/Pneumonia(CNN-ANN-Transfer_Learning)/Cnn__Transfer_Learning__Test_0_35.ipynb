{
  "cells": [
    {
      "cell_type": "code",
      "execution_count": 2,
      "metadata": {
        "colab": {
          "base_uri": "https://localhost:8080/"
        },
        "id": "BpWBG_1pMy2J",
        "outputId": "a9c4683d-1cb2-4d79-a579-731c189341cf"
      },
      "outputs": [
        {
          "output_type": "stream",
          "name": "stdout",
          "text": [
            "Requirement already satisfied: scikit-learn in /usr/local/lib/python3.10/dist-packages (1.3.2)\n",
            "Requirement already satisfied: numpy<2.0,>=1.17.3 in /usr/local/lib/python3.10/dist-packages (from scikit-learn) (1.23.5)\n",
            "Requirement already satisfied: scipy>=1.5.0 in /usr/local/lib/python3.10/dist-packages (from scikit-learn) (1.11.4)\n",
            "Requirement already satisfied: joblib>=1.1.1 in /usr/local/lib/python3.10/dist-packages (from scikit-learn) (1.3.2)\n",
            "Requirement already satisfied: threadpoolctl>=2.0.0 in /usr/local/lib/python3.10/dist-packages (from scikit-learn) (3.2.0)\n"
          ]
        }
      ],
      "source": [
        "pip install -U scikit-learn\n"
      ]
    },
    {
      "cell_type": "code",
      "execution_count": 3,
      "metadata": {
        "colab": {
          "base_uri": "https://localhost:8080/"
        },
        "id": "K63dBPgjM4ep",
        "outputId": "16dae998-a80a-41b3-f09b-e708f05491fb"
      },
      "outputs": [
        {
          "output_type": "stream",
          "name": "stdout",
          "text": [
            "Drive already mounted at /gdrive; to attempt to forcibly remount, call drive.mount(\"/gdrive\", force_remount=True).\n"
          ]
        }
      ],
      "source": [
        "from google.colab import drive\n",
        "drive.mount('/gdrive')"
      ]
    },
    {
      "cell_type": "code",
      "execution_count": 4,
      "metadata": {
        "id": "nf7pJVWMND_w"
      },
      "outputs": [],
      "source": [
        "import numpy as np # linear algebra\n",
        "import pandas as pd # data processing, CSV file I/O (e.g. pd.read_csv)\n",
        "import matplotlib.pyplot as plt\n",
        "import seaborn as sns\n",
        "import glob\n",
        "import cv2\n",
        "import os"
      ]
    },
    {
      "cell_type": "code",
      "execution_count": 5,
      "metadata": {
        "colab": {
          "base_uri": "https://localhost:8080/"
        },
        "id": "1q8GTueXNGdI",
        "outputId": "127d5ef4-a55d-43bb-ce86-f3a7e0933587"
      },
      "outputs": [
        {
          "output_type": "stream",
          "name": "stdout",
          "text": [
            "['X-Ray']\n"
          ]
        }
      ],
      "source": [
        "#import os\n",
        "print(os.listdir(\"/gdrive/My Drive/Colab Notebooks/Pneumonia\"))"
      ]
    },
    {
      "cell_type": "code",
      "execution_count": 6,
      "metadata": {
        "id": "gInvMRMWNJTJ"
      },
      "outputs": [],
      "source": [
        "DATADIR = '/gdrive/My Drive/Colab Notebooks/Pneumonia/X-Ray'\n",
        "\n",
        "CATEGORIES = CATEGORIES = [\"Bacterial\",\"Viral\"]"
      ]
    },
    {
      "cell_type": "code",
      "execution_count": 7,
      "metadata": {
        "id": "XS9Z2RXyNLRq"
      },
      "outputs": [],
      "source": [
        "IMG_SIZE = 100"
      ]
    },
    {
      "cell_type": "code",
      "execution_count": 9,
      "metadata": {
        "id": "hkspLmenNM6L"
      },
      "outputs": [],
      "source": [
        "all_data =[]\n",
        "\n",
        "def create_all_data():\n",
        "    for category in CATEGORIES:\n",
        "        path=os.path.join(DATADIR, category)\n",
        "        class_num=CATEGORIES.index(category)\n",
        "        for img in os.listdir(path):\n",
        "            try:\n",
        "                img_array=cv2.imread(os.path.join(path,img))\n",
        "                new_array=cv2.resize(img_array,(IMG_SIZE,IMG_SIZE))\n",
        "                all_data.append([new_array,class_num])\n",
        "            except Exception as e:\n",
        "                pass\n",
        "create_all_data()"
      ]
    },
    {
      "cell_type": "code",
      "execution_count": 10,
      "metadata": {
        "colab": {
          "base_uri": "https://localhost:8080/"
        },
        "id": "LjuYzVq7NObI",
        "outputId": "4307f512-fdda-4873-ca5f-870cd1578c8e"
      },
      "outputs": [
        {
          "output_type": "stream",
          "name": "stdout",
          "text": [
            "Toplam Görüntü Sayısı:  16167\n"
          ]
        }
      ],
      "source": [
        "print(\"Toplam Görüntü Sayısı: \", len(all_data))"
      ]
    },
    {
      "cell_type": "code",
      "execution_count": 12,
      "metadata": {
        "id": "kXYCmdTZNPZR"
      },
      "outputs": [],
      "source": [
        "X = []\n",
        "y = []\n",
        "\n",
        "for categories, label in all_data:\n",
        "  X.append(categories)\n",
        "  y.append(label)"
      ]
    },
    {
      "cell_type": "code",
      "execution_count": 13,
      "metadata": {
        "id": "FSRQeHNXNQ9f"
      },
      "outputs": [],
      "source": [
        "from sklearn.model_selection import train_test_split\n",
        "\n",
        "x_train, x_test, y_train, y_test = train_test_split(X, y, test_size=0.35, random_state =42)\n",
        "\n",
        "x_train, x_val, y_train, y_val = train_test_split(x_train, y_train, test_size=0.10, random_state=42)"
      ]
    },
    {
      "cell_type": "code",
      "execution_count": 14,
      "metadata": {
        "id": "sQzTVP3jNTtl"
      },
      "outputs": [],
      "source": [
        "x_train = np.array(x_train)\n",
        "x_test = np.array(x_test)\n",
        "\n",
        "y_train = np.array(y_train)\n",
        "y_test = np.array(y_test)\n",
        "\n",
        "x_val = np.array(x_val)\n",
        "y_val = np.array(y_val)"
      ]
    },
    {
      "cell_type": "code",
      "execution_count": 15,
      "metadata": {
        "colab": {
          "base_uri": "https://localhost:8080/"
        },
        "id": "3f5jP_CWNVT-",
        "outputId": "a2ab1fa9-b26c-4e2d-cd86-05310a4192c4"
      },
      "outputs": [
        {
          "output_type": "stream",
          "name": "stdout",
          "text": [
            "(9457, 100, 100, 3)\n",
            "(5659, 100, 100, 3)\n",
            "(1051, 100, 100, 3)\n",
            "(9457,)\n",
            "(5659,)\n",
            "(1051,)\n"
          ]
        }
      ],
      "source": [
        "print(x_train.shape)\n",
        "print(x_test.shape)\n",
        "print(x_val.shape)\n",
        "\n",
        "print(y_train.shape)\n",
        "print(y_test.shape)\n",
        "print(y_val.shape)"
      ]
    },
    {
      "cell_type": "code",
      "execution_count": 16,
      "metadata": {
        "id": "K6I1cxqRNXCc"
      },
      "outputs": [],
      "source": [
        "import tensorflow as tf\n",
        "\n",
        "train_yCl = tf.keras.utils.to_categorical(y_train, num_classes=2)\n",
        "test_yCl = tf.keras.utils.to_categorical(y_test, num_classes=2)\n",
        "valid_yCl = tf.keras.utils.to_categorical(y_val, num_classes=2)"
      ]
    },
    {
      "cell_type": "code",
      "execution_count": 17,
      "metadata": {
        "colab": {
          "base_uri": "https://localhost:8080/"
        },
        "id": "DGS5Or4OWNnG",
        "outputId": "c67ce3a0-00ac-44c5-c688-6de542dcdb6b"
      },
      "outputs": [
        {
          "output_type": "stream",
          "name": "stdout",
          "text": [
            "Requirement already satisfied: keras_tuner in /usr/local/lib/python3.10/dist-packages (1.4.6)\n",
            "Requirement already satisfied: keras in /usr/local/lib/python3.10/dist-packages (from keras_tuner) (2.15.0)\n",
            "Requirement already satisfied: packaging in /usr/local/lib/python3.10/dist-packages (from keras_tuner) (23.2)\n",
            "Requirement already satisfied: requests in /usr/local/lib/python3.10/dist-packages (from keras_tuner) (2.31.0)\n",
            "Requirement already satisfied: kt-legacy in /usr/local/lib/python3.10/dist-packages (from keras_tuner) (1.0.5)\n",
            "Requirement already satisfied: charset-normalizer<4,>=2 in /usr/local/lib/python3.10/dist-packages (from requests->keras_tuner) (3.3.2)\n",
            "Requirement already satisfied: idna<4,>=2.5 in /usr/local/lib/python3.10/dist-packages (from requests->keras_tuner) (3.6)\n",
            "Requirement already satisfied: urllib3<3,>=1.21.1 in /usr/local/lib/python3.10/dist-packages (from requests->keras_tuner) (2.0.7)\n",
            "Requirement already satisfied: certifi>=2017.4.17 in /usr/local/lib/python3.10/dist-packages (from requests->keras_tuner) (2023.11.17)\n"
          ]
        }
      ],
      "source": [
        "!pip install keras_tuner"
      ]
    },
    {
      "cell_type": "code",
      "execution_count": 18,
      "metadata": {
        "colab": {
          "base_uri": "https://localhost:8080/"
        },
        "id": "HsdqqtyaNgPg",
        "outputId": "290591c6-425e-4489-fc10-e5bae721224a"
      },
      "outputs": [
        {
          "output_type": "stream",
          "name": "stderr",
          "text": [
            "<ipython-input-18-f4495324b67f>:1: DeprecationWarning: `import kerastuner` is deprecated, please use `import keras_tuner`.\n",
            "  from kerastuner.tuners import RandomSearch\n"
          ]
        },
        {
          "output_type": "stream",
          "name": "stdout",
          "text": [
            "Reloading Tuner from my_tuner_dir/pneumonia_tuning/tuner0.json\n",
            "Epoch 1/25\n",
            "148/148 [==============================] - 30s 112ms/step - loss: 0.4663 - accuracy: 0.7606 - val_loss: 0.4915 - val_accuracy: 0.7146\n",
            "Epoch 2/25\n",
            "148/148 [==============================] - 12s 81ms/step - loss: 0.4443 - accuracy: 0.7747 - val_loss: 483.5246 - val_accuracy: 0.3930\n",
            "Epoch 3/25\n",
            "148/148 [==============================] - 12s 78ms/step - loss: 0.3958 - accuracy: 0.7924 - val_loss: 220.6620 - val_accuracy: 0.6070\n",
            "Epoch 4/25\n",
            "148/148 [==============================] - 12s 79ms/step - loss: 0.3535 - accuracy: 0.8153 - val_loss: 0.4633 - val_accuracy: 0.7631\n",
            "Epoch 5/25\n",
            "148/148 [==============================] - 12s 80ms/step - loss: 0.3324 - accuracy: 0.8225 - val_loss: 0.3326 - val_accuracy: 0.8268\n",
            "Epoch 6/25\n",
            "148/148 [==============================] - 12s 81ms/step - loss: 0.3189 - accuracy: 0.8328 - val_loss: 0.3952 - val_accuracy: 0.8088\n",
            "Epoch 7/25\n",
            "148/148 [==============================] - 12s 82ms/step - loss: 0.2808 - accuracy: 0.8498 - val_loss: 0.2999 - val_accuracy: 0.8497\n",
            "Epoch 8/25\n",
            "148/148 [==============================] - 12s 83ms/step - loss: 0.2455 - accuracy: 0.8654 - val_loss: 0.2495 - val_accuracy: 0.8716\n",
            "Epoch 9/25\n",
            "148/148 [==============================] - 12s 82ms/step - loss: 0.2504 - accuracy: 0.8662 - val_loss: 0.3787 - val_accuracy: 0.8601\n",
            "Epoch 10/25\n",
            "148/148 [==============================] - 12s 81ms/step - loss: 0.2131 - accuracy: 0.8809 - val_loss: 0.2935 - val_accuracy: 0.8839\n",
            "Epoch 11/25\n",
            "148/148 [==============================] - 12s 82ms/step - loss: 0.1965 - accuracy: 0.8965 - val_loss: 1.8131 - val_accuracy: 0.7402\n",
            "Epoch 12/25\n",
            "148/148 [==============================] - 12s 81ms/step - loss: 0.1840 - accuracy: 0.9067 - val_loss: 0.2463 - val_accuracy: 0.9153\n",
            "Epoch 13/25\n",
            "148/148 [==============================] - 12s 81ms/step - loss: 0.1748 - accuracy: 0.9157 - val_loss: 0.2516 - val_accuracy: 0.9125\n",
            "Epoch 14/25\n",
            "148/148 [==============================] - 12s 82ms/step - loss: 0.1700 - accuracy: 0.9166 - val_loss: 0.2229 - val_accuracy: 0.9210\n",
            "Epoch 15/25\n",
            "148/148 [==============================] - 12s 82ms/step - loss: 0.1392 - accuracy: 0.9340 - val_loss: 0.2253 - val_accuracy: 0.9068\n",
            "Epoch 16/25\n",
            "148/148 [==============================] - 12s 82ms/step - loss: 0.1401 - accuracy: 0.9385 - val_loss: 0.1934 - val_accuracy: 0.9401\n",
            "Epoch 17/25\n",
            "148/148 [==============================] - 12s 81ms/step - loss: 0.1117 - accuracy: 0.9496 - val_loss: 0.1640 - val_accuracy: 0.9581\n",
            "Epoch 18/25\n",
            "148/148 [==============================] - 12s 81ms/step - loss: 0.1208 - accuracy: 0.9490 - val_loss: 3.2352 - val_accuracy: 0.7745\n",
            "Epoch 19/25\n",
            "148/148 [==============================] - 12s 82ms/step - loss: 0.1349 - accuracy: 0.9481 - val_loss: 0.2171 - val_accuracy: 0.9410\n",
            "Epoch 20/25\n",
            "148/148 [==============================] - 12s 82ms/step - loss: 0.1576 - accuracy: 0.9394 - val_loss: 0.3837 - val_accuracy: 0.9039\n",
            "Epoch 21/25\n",
            "148/148 [==============================] - 12s 82ms/step - loss: 0.1176 - accuracy: 0.9501 - val_loss: 0.2229 - val_accuracy: 0.9277\n",
            "Epoch 22/25\n",
            "148/148 [==============================] - 12s 81ms/step - loss: 0.0935 - accuracy: 0.9597 - val_loss: 0.2899 - val_accuracy: 0.9210\n",
            "Epoch 23/25\n",
            "148/148 [==============================] - 12s 82ms/step - loss: 0.0906 - accuracy: 0.9636 - val_loss: 0.2393 - val_accuracy: 0.9382\n",
            "Epoch 24/25\n",
            "148/148 [==============================] - 12s 81ms/step - loss: 0.0855 - accuracy: 0.9647 - val_loss: 0.1876 - val_accuracy: 0.9543\n",
            "Epoch 25/25\n",
            "148/148 [==============================] - 12s 81ms/step - loss: 0.0703 - accuracy: 0.9713 - val_loss: 0.1899 - val_accuracy: 0.9638\n"
          ]
        },
        {
          "output_type": "execute_result",
          "data": {
            "text/plain": [
              "<keras.src.callbacks.History at 0x7c1a0b486ce0>"
            ]
          },
          "metadata": {},
          "execution_count": 18
        }
      ],
      "source": [
        "from kerastuner.tuners import RandomSearch\n",
        "from tensorflow import keras\n",
        "from keras.models import Sequential\n",
        "from keras.layers import Input, Dense, Activation, BatchNormalization, Flatten, Conv2D, MaxPooling2D, Dropout\n",
        "\n",
        "model = Sequential()\n",
        "\n",
        "def build_model(hp):\n",
        "    model = Sequential()\n",
        "    model.add(Conv2D(hp.Int('conv1_units', min_value=32, max_value=128, step=32), (3,3), padding='same', input_shape=(IMG_SIZE, IMG_SIZE, 3)))\n",
        "    model.add(Activation('relu'))\n",
        "    model.add(Conv2D(hp.Int('conv2_units', min_value=32, max_value=128, step=32), (3,3), padding='same'))\n",
        "    model.add(Activation('relu'))\n",
        "    model.add(MaxPooling2D(pool_size=(2,2)))\n",
        "    model.add(BatchNormalization())\n",
        "    model.add(Dropout(hp.Float('dropout_1', min_value=0.1, max_value=0.5, step=0.1)))\n",
        "\n",
        "    model.add(Flatten())\n",
        "    model.add(Dense(hp.Int('dense1_units', min_value=256, max_value=512, step=256)))\n",
        "    model.add(Activation('relu'))\n",
        "    model.add(Dropout(hp.Float('dropout_2', min_value=0.1, max_value=0.5, step=0.1)))\n",
        "    model.add(Dense(2))\n",
        "    model.add(Activation('softmax'))\n",
        "\n",
        "    model.compile(loss=\"categorical_crossentropy\", optimizer=\"adam\", metrics=['accuracy'])\n",
        "    return model\n",
        "\n",
        "tuner = RandomSearch(\n",
        "    build_model,\n",
        "    objective='val_accuracy',\n",
        "    max_trials=5,  # Reduce the number of trials\n",
        "    directory='my_tuner_dir',\n",
        "    project_name='pneumonia_tuning'\n",
        ")\n",
        "\n",
        "tuner.search(x_train, train_yCl, validation_data=(x_val, valid_yCl))\n",
        "\n",
        "best_model = tuner.get_best_models(num_models=1)[0]\n",
        "best_model.fit(x_train, train_yCl, validation_data=(x_val, valid_yCl), epochs=25, batch_size=64)\n"
      ]
    },
    {
      "cell_type": "code",
      "execution_count": 20,
      "metadata": {
        "colab": {
          "base_uri": "https://localhost:8080/"
        },
        "id": "jr--rTgU3WET",
        "outputId": "29b26f54-4307-4b32-ef67-d59260c3dfc9"
      },
      "outputs": [
        {
          "output_type": "stream",
          "name": "stdout",
          "text": [
            "177/177 [==============================] - 2s 7ms/step\n",
            "Test Accuracy: 0.9581198091535607\n",
            "Precision: 0.9580625496365789\n",
            "Recall: 0.9581198091535607\n",
            "F1 Score: 0.9580476506380837\n",
            "Confusion Matrix:\n",
            "[[3411  100]\n",
            " [ 137 2011]]\n",
            "Classification Report:\n",
            "              precision    recall  f1-score   support\n",
            "\n",
            "           0       0.96      0.97      0.97      3511\n",
            "           1       0.95      0.94      0.94      2148\n",
            "\n",
            "    accuracy                           0.96      5659\n",
            "   macro avg       0.96      0.95      0.96      5659\n",
            "weighted avg       0.96      0.96      0.96      5659\n",
            "\n"
          ]
        }
      ],
      "source": [
        "from sklearn.metrics import accuracy_score, precision_score, recall_score, f1_score, confusion_matrix, classification_report\n",
        "\n",
        "# Test verisi üzerinde modelin tahminlerini al\n",
        "y_pred = best_model.predict(x_test)\n",
        "\n",
        "# Tahminlerden sınıf indekslerini elde et\n",
        "y_pred_classes = np.argmax(y_pred, axis=1)\n",
        "\n",
        "# Gerçek sınıfları elde et\n",
        "y_true = np.argmax(test_yCl, axis=1)\n",
        "\n",
        "# Accuracy hesapla\n",
        "accuracy = accuracy_score(y_true, y_pred_classes)\n",
        "print(f'Test Accuracy: {accuracy}')\n",
        "\n",
        "# Precision hesapla\n",
        "precision = precision_score(y_true, y_pred_classes, average='weighted')\n",
        "print(f'Precision: {precision}')\n",
        "\n",
        "# Recall hesapla\n",
        "recall = recall_score(y_true, y_pred_classes, average='weighted')\n",
        "print(f'Recall: {recall}')\n",
        "\n",
        "# F1 score hesapla\n",
        "f1 = f1_score(y_true, y_pred_classes, average='weighted')\n",
        "print(f'F1 Score: {f1}')\n",
        "\n",
        "# Karmaşıklık Matrisi hesapla\n",
        "conf_matrix = confusion_matrix(y_true, y_pred_classes)\n",
        "print('Confusion Matrix:')\n",
        "print(conf_matrix)\n",
        "\n",
        "# Classification Report hesapla\n",
        "class_report = classification_report(y_true, y_pred_classes)\n",
        "print('Classification Report:')\n",
        "print(class_report)\n"
      ]
    },
    {
      "cell_type": "code",
      "execution_count": 19,
      "metadata": {
        "colab": {
          "base_uri": "https://localhost:8080/"
        },
        "id": "3RoOPd_D6fkn",
        "outputId": "41a4fbbf-fd52-4ef3-c6ed-a2205849d578"
      },
      "outputs": [
        {
          "output_type": "stream",
          "name": "stderr",
          "text": [
            "WARNING:absl:`lr` is deprecated in Keras optimizer, please use `learning_rate` or use the legacy optimizer, e.g.,tf.keras.optimizers.legacy.Adam.\n"
          ]
        },
        {
          "output_type": "stream",
          "name": "stdout",
          "text": [
            "Epoch 1/25\n",
            "148/148 [==============================] - 22s 105ms/step - loss: 2.2763 - accuracy: 0.7187 - val_loss: 0.4875 - val_accuracy: 0.7764\n",
            "Epoch 2/25\n",
            "148/148 [==============================] - 11s 75ms/step - loss: 0.4585 - accuracy: 0.7879 - val_loss: 0.4419 - val_accuracy: 0.7992\n",
            "Epoch 3/25\n",
            "148/148 [==============================] - 11s 73ms/step - loss: 0.3806 - accuracy: 0.8291 - val_loss: 0.3587 - val_accuracy: 0.8649\n",
            "Epoch 4/25\n",
            "148/148 [==============================] - 10s 69ms/step - loss: 0.3491 - accuracy: 0.8465 - val_loss: 0.3021 - val_accuracy: 0.8858\n",
            "Epoch 5/25\n",
            "148/148 [==============================] - 11s 71ms/step - loss: 0.3255 - accuracy: 0.8611 - val_loss: 0.3034 - val_accuracy: 0.8953\n",
            "Epoch 6/25\n",
            "148/148 [==============================] - 10s 70ms/step - loss: 0.2945 - accuracy: 0.8714 - val_loss: 0.2907 - val_accuracy: 0.8906\n",
            "Epoch 7/25\n",
            "148/148 [==============================] - 10s 70ms/step - loss: 0.2709 - accuracy: 0.8782 - val_loss: 0.2712 - val_accuracy: 0.8934\n",
            "Epoch 8/25\n",
            "148/148 [==============================] - 10s 68ms/step - loss: 0.2643 - accuracy: 0.8829 - val_loss: 0.2472 - val_accuracy: 0.9134\n",
            "Epoch 9/25\n",
            "148/148 [==============================] - 10s 69ms/step - loss: 0.2504 - accuracy: 0.8862 - val_loss: 0.2274 - val_accuracy: 0.9182\n",
            "Epoch 10/25\n",
            "148/148 [==============================] - 10s 70ms/step - loss: 0.2197 - accuracy: 0.9011 - val_loss: 0.2210 - val_accuracy: 0.9258\n",
            "Epoch 11/25\n",
            "148/148 [==============================] - 10s 71ms/step - loss: 0.2226 - accuracy: 0.8981 - val_loss: 0.2089 - val_accuracy: 0.9277\n",
            "Epoch 12/25\n",
            "148/148 [==============================] - 10s 69ms/step - loss: 0.2208 - accuracy: 0.9051 - val_loss: 0.2410 - val_accuracy: 0.9115\n",
            "Epoch 13/25\n",
            "148/148 [==============================] - 10s 69ms/step - loss: 0.2091 - accuracy: 0.9024 - val_loss: 0.2070 - val_accuracy: 0.9334\n",
            "Epoch 14/25\n",
            "148/148 [==============================] - 10s 69ms/step - loss: 0.2000 - accuracy: 0.9079 - val_loss: 0.2173 - val_accuracy: 0.9315\n",
            "Epoch 15/25\n",
            "148/148 [==============================] - 10s 70ms/step - loss: 0.1927 - accuracy: 0.9085 - val_loss: 0.2293 - val_accuracy: 0.9277\n",
            "Epoch 16/25\n",
            "148/148 [==============================] - 10s 71ms/step - loss: 0.2049 - accuracy: 0.9071 - val_loss: 0.1918 - val_accuracy: 0.9343\n",
            "Epoch 17/25\n",
            "148/148 [==============================] - 10s 69ms/step - loss: 0.1908 - accuracy: 0.9082 - val_loss: 0.1959 - val_accuracy: 0.9305\n",
            "Epoch 18/25\n",
            "148/148 [==============================] - 10s 70ms/step - loss: 0.1803 - accuracy: 0.9082 - val_loss: 0.1995 - val_accuracy: 0.9372\n",
            "Epoch 19/25\n",
            "148/148 [==============================] - 10s 71ms/step - loss: 0.1671 - accuracy: 0.9196 - val_loss: 0.1683 - val_accuracy: 0.9477\n",
            "Epoch 20/25\n",
            "148/148 [==============================] - 10s 69ms/step - loss: 0.1620 - accuracy: 0.9212 - val_loss: 0.1751 - val_accuracy: 0.9401\n",
            "Epoch 21/25\n",
            "148/148 [==============================] - 10s 68ms/step - loss: 0.1606 - accuracy: 0.9161 - val_loss: 0.1648 - val_accuracy: 0.9477\n",
            "Epoch 22/25\n",
            "148/148 [==============================] - 10s 71ms/step - loss: 0.1574 - accuracy: 0.9187 - val_loss: 0.1670 - val_accuracy: 0.9581\n",
            "Epoch 23/25\n",
            "148/148 [==============================] - 10s 69ms/step - loss: 0.1765 - accuracy: 0.9140 - val_loss: 0.1675 - val_accuracy: 0.9562\n",
            "Epoch 24/25\n",
            "148/148 [==============================] - 10s 71ms/step - loss: 0.1541 - accuracy: 0.9232 - val_loss: 0.1849 - val_accuracy: 0.9486\n",
            "Epoch 25/25\n",
            "148/148 [==============================] - 11s 71ms/step - loss: 0.1524 - accuracy: 0.9264 - val_loss: 0.1885 - val_accuracy: 0.9543\n",
            "33/33 [==============================] - 3s 34ms/step - loss: 0.1885 - accuracy: 0.9543\n",
            "Validation Accuracy:  0.9543291926383972\n",
            "177/177 [==============================] - 6s 34ms/step - loss: 0.1765 - accuracy: 0.9514\n",
            "Test Accuracy:  0.951404869556427\n",
            "296/296 [==============================] - 11s 37ms/step - loss: 0.0434 - accuracy: 0.9855\n",
            "Train Accuracy:  0.9855133891105652\n"
          ]
        }
      ],
      "source": [
        "import numpy as np\n",
        "from sklearn.model_selection import train_test_split\n",
        "from sklearn.preprocessing import StandardScaler\n",
        "from keras.models import Sequential\n",
        "from keras.layers import Dense, Flatten, Dropout\n",
        "from keras.applications import VGG16\n",
        "from keras.optimizers import Adam\n",
        "import tensorflow as tf\n",
        "\n",
        "# Verileri düzenleme\n",
        "IMG_SIZE = 100  # Örnek bir görüntü boyutu, kendi projenizdeki değere göre güncelleyin\n",
        "\n",
        "x_train_reshaped = x_train.reshape(-1, IMG_SIZE, IMG_SIZE, 3)\n",
        "x_test_reshaped = x_test.reshape(-1, IMG_SIZE, IMG_SIZE, 3)\n",
        "x_val_reshaped = x_val.reshape(-1, IMG_SIZE, IMG_SIZE, 3)\n",
        "\n",
        "# Verileri standartlaştırma\n",
        "scaler = StandardScaler()\n",
        "x_train_scaled = scaler.fit_transform(x_train_reshaped.reshape(x_train_reshaped.shape[0], -1))\n",
        "x_test_scaled = scaler.transform(x_test_reshaped.reshape(x_test_reshaped.shape[0], -1))\n",
        "x_val_scaled = scaler.transform(x_val_reshaped.reshape(x_val_reshaped.shape[0], -1))\n",
        "\n",
        "# Sınıfları kategorik hale getirme\n",
        "train_yCl = tf.keras.utils.to_categorical(y_train, num_classes=2)\n",
        "test_yCl = tf.keras.utils.to_categorical(y_test, num_classes=2)\n",
        "valid_yCl = tf.keras.utils.to_categorical(y_val, num_classes=2)\n",
        "\n",
        "# VGG16 modelini yükleme (weights='imagenet' ile önceden eğitilmiş ağırlıkları kullanma)\n",
        "base_model = VGG16(include_top=False, input_shape=(IMG_SIZE, IMG_SIZE, 3), weights='imagenet')\n",
        "\n",
        "# VGG16'nın evrişimli katmanlarını dondurma\n",
        "for layer in base_model.layers:\n",
        "    layer.trainable = False\n",
        "\n",
        "# Yeni bir model oluşturma\n",
        "model_transfer = Sequential()\n",
        "\n",
        "# VGG16'ın evrişimli katmanlarını ekleyerek transfer öğrenme\n",
        "model_transfer.add(base_model)\n",
        "model_transfer.add(Flatten())\n",
        "model_transfer.add(Dense(512, activation='relu'))\n",
        "model_transfer.add(Dropout(0.5))\n",
        "model_transfer.add(Dense(2, activation='softmax'))\n",
        "\n",
        "# Modeli derleme\n",
        "model_transfer.compile(optimizer=Adam(lr=0.001), loss='categorical_crossentropy', metrics=['accuracy'])\n",
        "\n",
        "# Modeli eğitme\n",
        "history_transfer = model_transfer.fit(x_train_reshaped, train_yCl,\n",
        "                                      batch_size=64,\n",
        "                                      epochs=25,\n",
        "                                      validation_data=(x_val_reshaped, valid_yCl))\n",
        "\n",
        "# Modelin performansını değerlendirme\n",
        "score_valid_transfer = model_transfer.evaluate(x_val_reshaped, valid_yCl)\n",
        "print(\"Validation Accuracy: \", score_valid_transfer[1])\n",
        "\n",
        "score_test_transfer = model_transfer.evaluate(x_test_reshaped, test_yCl)\n",
        "print(\"Test Accuracy: \", score_test_transfer[1])\n",
        "\n",
        "score_train_transfer = model_transfer.evaluate(x_train_reshaped, train_yCl)\n",
        "print(\"Train Accuracy: \", score_train_transfer[1])\n"
      ]
    },
    {
      "cell_type": "code",
      "execution_count": 22,
      "metadata": {
        "colab": {
          "base_uri": "https://localhost:8080/"
        },
        "id": "8h4eHfjmCAva",
        "outputId": "c219c7ab-c613-4ce1-f0e7-7ebb4d23dabb"
      },
      "outputs": [
        {
          "output_type": "stream",
          "name": "stdout",
          "text": [
            "177/177 [==============================] - 6s 33ms/step\n",
            "Precision:  0.9517021028381976\n",
            "Recall:  0.9514048418448489\n",
            "F1 Score:  0.9514959280351978\n",
            "Confusion Matrix:\n",
            "[[3352  159]\n",
            " [ 116 2032]]\n",
            "Classification Report:\n",
            "              precision    recall  f1-score   support\n",
            "\n",
            "           0       0.97      0.95      0.96      3511\n",
            "           1       0.93      0.95      0.94      2148\n",
            "\n",
            "    accuracy                           0.95      5659\n",
            "   macro avg       0.95      0.95      0.95      5659\n",
            "weighted avg       0.95      0.95      0.95      5659\n",
            "\n"
          ]
        }
      ],
      "source": [
        "from sklearn.metrics import accuracy_score, precision_score, recall_score, f1_score, confusion_matrix, classification_report\n",
        "\n",
        "# Test verisi üzerinde tahmin yapma\n",
        "y_pred_transfer = model_transfer.predict(x_test_reshaped)\n",
        "y_pred_classes_transfer = np.argmax(y_pred_transfer, axis=1)\n",
        "y_true_classes_transfer = np.argmax(test_yCl, axis=1)\n",
        "\n",
        "\n",
        "# Precision, Recall, F1 Score\n",
        "precision_transfer = precision_score(y_true_classes_transfer, y_pred_classes_transfer, average='weighted')\n",
        "recall_transfer = recall_score(y_true_classes_transfer, y_pred_classes_transfer, average='weighted')\n",
        "f1_transfer = f1_score(y_true_classes_transfer, y_pred_classes_transfer, average='weighted')\n",
        "\n",
        "print(\"Precision: \", precision_transfer)\n",
        "print(\"Recall: \", recall_transfer)\n",
        "print(\"F1 Score: \", f1_transfer)\n",
        "\n",
        "# Karmaşıklık Matrisi\n",
        "conf_matrix_transfer = confusion_matrix(y_true_classes_transfer, y_pred_classes_transfer)\n",
        "print(\"Confusion Matrix:\")\n",
        "print(conf_matrix_transfer)\n",
        "\n",
        "# Classification Report\n",
        "class_report_transfer = classification_report(y_true_classes_transfer, y_pred_classes_transfer)\n",
        "print(\"Classification Report:\")\n",
        "print(class_report_transfer)\n"
      ]
    }
  ],
  "metadata": {
    "colab": {
      "provenance": [],
      "gpuType": "T4"
    },
    "kernelspec": {
      "display_name": "Python 3",
      "name": "python3"
    },
    "language_info": {
      "name": "python"
    },
    "accelerator": "GPU"
  },
  "nbformat": 4,
  "nbformat_minor": 0
}